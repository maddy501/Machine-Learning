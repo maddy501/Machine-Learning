{
  "nbformat": 4,
  "nbformat_minor": 0,
  "metadata": {
    "colab": {
      "name": "Linear Regression.ipynb",
      "provenance": [],
      "collapsed_sections": []
    },
    "kernelspec": {
      "name": "python3",
      "display_name": "Python 3"
    }
  },
  "cells": [
    {
      "cell_type": "markdown",
      "metadata": {
        "id": "wFgTtjySqNJc"
      },
      "source": [
        "Import numpy and pandas as their standard aliases.\n",
        "Read the file 'gapminder.csv' into a DataFrame df using the read_csv() function.\n",
        "Create array X for the 'fertility' feature and array y for the 'life' target variable.\n",
        "Reshape the arrays by using the .reshape() method and passing in -1 and 1."
      ]
    },
    {
      "cell_type": "code",
      "metadata": {
        "id": "6OUHvLDIqOph"
      },
      "source": [
        "# Import numpy and pandas\n",
        "import numpy as np\n",
        "import pandas as pd\n",
        "\n",
        "# Read the CSV file into a DataFrame: df\n",
        "df = pd.read_csv('gapminder.csv')\n",
        "\n",
        "# Create arrays for features and target variable\n",
        "y = df['life'].values\n",
        "X = df['fertility'].values\n",
        "\n",
        "# Print the dimensions of X and y before reshaping\n",
        "print(\"Dimensions of y before reshaping: {}\".format(y.shape))\n",
        "print(\"Dimensions of X before reshaping: {}\".format(X.shape))\n",
        "\n",
        "# Reshape X and y\n",
        "y = y.reshape(-1,1)\n",
        "X = X.reshape(-1,1)\n",
        "\n",
        "# Print the dimensions of X and y after reshaping\n",
        "print(\"Dimensions of y after reshaping: {}\".format(y.shape))\n",
        "print(\"Dimensions of X after reshaping: {}\".format(X.shape))\n"
      ],
      "execution_count": null,
      "outputs": []
    },
    {
      "cell_type": "code",
      "metadata": {
        "id": "sMxh3CdXqsZR"
      },
      "source": [
        "#inorder to generate the heat map to see the corelation between different variables with target values we can use the \n",
        "#seaborn library and use this command\n",
        "sns.heatmap(df.corr(), square=True, cmap='RdYlGn')"
      ],
      "execution_count": null,
      "outputs": []
    },
    {
      "cell_type": "markdown",
      "metadata": {
        "id": "FP_Q1k6HuQRH"
      },
      "source": [
        "Import LinearRegression from sklearn.linear_model.\n",
        "Create a LinearRegression regressor called reg.\n",
        "Set up the prediction space to range from the minimum to the maximum of X_fertility. This has been done for you.\n",
        "Fit the regressor to the data (X_fertility and y) and compute its predictions using the .predict() method and the prediction_space array.\n",
        "Compute and print the R2\n",
        "R\n",
        "2\n",
        " score using the .score() method.\n",
        "Overlay the plot with your linear regression line. This has been done for you, so hit 'Submit Answer' to see the result!"
      ]
    },
    {
      "cell_type": "code",
      "metadata": {
        "id": "OplfdfbouTIH"
      },
      "source": [
        "# Import LinearRegression\n",
        "from sklearn.linear_model import LinearRegression\n",
        "\n",
        "# Create the regressor: reg\n",
        "reg = LinearRegression()\n",
        "\n",
        "# Create the prediction space\n",
        "prediction_space = np.linspace(min(X_fertility), max(X_fertility)).reshape(-1,1)\n",
        "\n",
        "# Fit the model to the data\n",
        "reg.fit(X_fertility,y)\n",
        "\n",
        "# Compute predictions over the prediction space: y_pred\n",
        "y_pred = reg.predict(prediction_space)\n",
        "\n",
        "# Print R^2 \n",
        "print(reg.score(X_fertility, y))\n",
        "\n",
        "# Plot regression line\n",
        "plt.plot(prediction_space, y_pred, color='black', linewidth=3)\n",
        "plt.show()\n"
      ],
      "execution_count": null,
      "outputs": []
    },
    {
      "cell_type": "markdown",
      "metadata": {
        "id": "IhHiZBKrvpLV"
      },
      "source": [
        "Import LinearRegression from sklearn.linear_model, mean_squared_error from sklearn.metrics, and train_test_split from sklearn.model_selection.\n",
        "Using X and y, create training and test sets such that 30% is used for testing and 70% for training. Use a random state of 42.\n",
        "Create a linear regression regressor called reg_all, fit it to the training set, and evaluate it on the test set.\n",
        "Compute and print the R2\n",
        "R\n",
        "2\n",
        " score using the .score() method on the test set.\n",
        "Compute and print the RMSE. To do this, first compute the Mean Squared Error using the mean_squared_error() function with the arguments y_test and y_pred, and then take its square root using np.sqrt()."
      ]
    },
    {
      "cell_type": "code",
      "metadata": {
        "id": "ovrYmgXtvqcn"
      },
      "source": [
        "# Import necessary modules\n",
        "from sklearn.linear_model import LinearRegression \n",
        "from sklearn.metrics import mean_squared_error\n",
        "from sklearn.model_selection import train_test_split\n",
        "\n",
        "# Create training and test sets\n",
        "X_train, X_test, y_train, y_test = train_test_split(X,y, test_size = 0.3, random_state=42)\n",
        "\n",
        "# Create the regressor: reg_all\n",
        "reg_all = LinearRegression()\n",
        "\n",
        "# Fit the regressor to the training data\n",
        "reg_all.fit(X_train,y_train)\n",
        "\n",
        "# Predict on the test data: y_pred\n",
        "y_pred = reg_all.predict(X_test)\n",
        "\n",
        "# Compute and print R^2 and RMSE\n",
        "print(\"R^2: {}\".format(reg_all.score(X_test, y_test)))\n",
        "rmse = np.sqrt(mean_squared_error(y_test,y_pred))\n",
        "print(\"Root Mean Squared Error: {}\".format(rmse))\n"
      ],
      "execution_count": null,
      "outputs": []
    },
    {
      "cell_type": "markdown",
      "metadata": {
        "id": "eaX-MxXl0ZN0"
      },
      "source": [
        "Cross-validation is a vital step in evaluating a model. It maximizes the amount of data that is used to train the model, as during the course of training, the model is not only trained, but also tested on all of the available data.\n",
        "\n",
        "In this exercise, you will practice 5-fold cross validation on the Gapminder data. By default, scikit-learn's cross_val_score() function uses R2\n",
        "R\n",
        "2\n",
        " as the metric of choice for regression. Since you are performing 5-fold cross-validation, the function will return 5 scores. Your job is to compute these 5 scores and then take their average.\n",
        "\n",
        "The DataFrame has been loaded as df and split into the feature/target variable arrays X and y. The modules pandas and numpy have been imported as pd and np, respectively."
      ]
    },
    {
      "cell_type": "code",
      "metadata": {
        "id": "PVLSv6eH0fl4"
      },
      "source": [
        "# Import the necessary modules\n",
        "from sklearn.linear_model import LinearRegression\n",
        "from sklearn.model_selection import cross_val_score\n",
        "\n",
        "# Create a linear regression object: reg\n",
        "reg = LinearRegression()\n",
        "\n",
        "# Compute 5-fold cross-validation scores: cv_scores\n",
        "cv_scores = cross_val_score(reg,X,y,cv=5)\n",
        "\n",
        "# Print the 5-fold cross-validation scores\n",
        "print(cv_scores)\n",
        "\n",
        "print(\"Average 5-Fold CV Score: {}\".format(np.mean(cv_scores)))\n"
      ],
      "execution_count": null,
      "outputs": []
    },
    {
      "cell_type": "markdown",
      "metadata": {
        "id": "mSe1S2UR04_T"
      },
      "source": [
        "K-Fold CV comparison\n",
        "\n",
        "Cross validation is essential but do not forget that the more folds you use, the more computationally expensive cross-validation becomes. In this exercise, you will explore this for yourself. Your job is to perform 3-fold cross-validation and then 10-fold cross-validation on the Gapminder dataset.\n",
        "\n",
        "In the IPython Shell, you can use %timeit to see how long each 3-fold CV takes compared to 10-fold CV by executing the following cv=3 and cv=10:\n",
        "\n",
        "%timeit cross_val_score(reg, X, y, cv = ____)\n",
        "pandas and numpy are available in the workspace as pd and np. The DataFrame has been loaded as df and the feature/target variable arrays X and y have been created."
      ]
    },
    {
      "cell_type": "code",
      "metadata": {
        "id": "AmmQ77yk08YN"
      },
      "source": [
        "# Import necessary modules\n",
        "from sklearn.linear_model import LinearRegression \n",
        "from sklearn.model_selection import cross_val_score\n",
        "\n",
        "# Create a linear regression object: reg\n",
        "reg = LinearRegression()\n",
        "\n",
        "# Perform 3-fold CV\n",
        "cvscores_3 = cross_val_score(reg,X,y,cv=3)\n",
        "print(np.mean(cvscores_3))\n",
        "\n",
        "# Perform 10-fold CV\n",
        "cvscores_10 = cross_val_score(reg,X,y,cv=10)\n",
        "print(np.mean(cvscores_10))\n"
      ],
      "execution_count": null,
      "outputs": []
    },
    {
      "cell_type": "markdown",
      "metadata": {
        "id": "eW7x9CJS2tKM"
      },
      "source": [
        "Regularization I: Lasso\n",
        "\n",
        "In the video, you saw how Lasso selected out the 'RM' feature as being the most important for predicting Boston house prices, while shrinking the coefficients of certain other features to 0. Its ability to perform feature selection in this way becomes even more useful when you are dealing with data involving thousands of features.\n",
        "\n",
        "In this exercise, you will fit a lasso regression to the Gapminder data you have been working with and plot the coefficients. Just as with the Boston data, you will find that the coefficients of some features are shrunk to 0, with only the most important ones remaining.\n",
        "\n",
        "The feature and target variable arrays have been pre-loaded as X and y.\n",
        "\n",
        "\n"
      ]
    },
    {
      "cell_type": "markdown",
      "metadata": {
        "id": "r01vi4WE2uZG"
      },
      "source": [
        "Import Lasso from sklearn.linear_model.\n",
        "Instantiate a Lasso regressor with an alpha of 0.4 and specify normalize=True.\n",
        "Fit the regressor to the data and compute the coefficients using the coef_ attribute.\n",
        "Plot the coefficients on the y-axis and column names on the x-axis. This has been done for you, so hit 'Submit Answer' to view the plot!"
      ]
    },
    {
      "cell_type": "code",
      "metadata": {
        "id": "J8ZgfuBj2x3v"
      },
      "source": [
        "# Import Lasso\n",
        "from sklearn.linear_model import Lasso\n",
        "\n",
        "# Instantiate a lasso regressor: lasso\n",
        "lasso = Lasso(alpha=0.4,normalize=True)\n",
        "\n",
        "# Fit the regressor to the data\n",
        "lasso.fit(X,y)\n",
        "\n",
        "# Compute and print the coefficients\n",
        "lasso_coef = lasso.fit(X,y).coef_\n",
        "print(lasso_coef)\n",
        "\n",
        "# Plot the coefficients\n",
        "plt.plot(range(len(df_columns)), lasso_coef)\n",
        "plt.xticks(range(len(df_columns)), df_columns.values, rotation=60)\n",
        "plt.margins(0.02)\n",
        "plt.show()\n"
      ],
      "execution_count": null,
      "outputs": []
    },
    {
      "cell_type": "markdown",
      "metadata": {
        "id": "vJ5TBdGN4bff"
      },
      "source": [
        "Ridge Regression \n",
        "Instantiate a Ridge regressor and specify normalize=True.\n",
        "Inside the for loop:\n",
        "Specify the alpha value for the regressor to use.\n",
        "Perform 10-fold cross-validation on the regressor with the specified alpha. The data is available in the arrays X and y.\n",
        "Append the average and the standard deviation of the computed cross-validated scores. NumPy has been pre-imported for you as np.\n",
        "Use the display_plot() function to visualize the scores and standard deviations.\n",
        "# Import necessary modules\n",
        "from sklearn.linear_model import Ridge\n",
        "from sklearn.model_selection import cross_val_score\n",
        "\n",
        "# Setup the array of alphas and lists to store scores\n",
        "alpha_space = np.logspace(-4, 0, 50)\n",
        "ridge_scores = []\n",
        "ridge_scores_std = []\n",
        "\n",
        "# Create a ridge regressor: ridge\n",
        "ridge = Ridge(normalize=True)\n",
        "\n",
        "# Compute scores over range of alphas\n",
        "for alpha in alpha_space:\n",
        "\n",
        "    # Specify the alpha value to use: ridge.alpha\n",
        "    ridge.alpha = alpha\n",
        "\n",
        "    # Perform 10-fold CV: ridge_cv_scores\n",
        "    ridge_cv_scores = cross_val_score(ridge,X,y,cv=10)\n",
        "    \n",
        "    # Append the mean of ridge_cv_scores to ridge_scores\n",
        "    ridge_scores.append(np.mean(ridge_cv_scores))\n",
        "    \n",
        "    # Append the std of ridge_cv_scores to ridge_scores_std\n",
        "    ridge_scores_std.append(np.std(ridge_cv_scores))\n",
        "\n",
        "# Display the plot\n",
        "display_plot(ridge_scores, ridge_scores_std)\n"
      ]
    }
  ]
}